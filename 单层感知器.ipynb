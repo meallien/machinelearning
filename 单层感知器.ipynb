{
 "cells": [
  {
   "cell_type": "code",
   "execution_count": 103,
   "metadata": {},
   "outputs": [
    {
     "name": "stdout",
     "output_type": "stream",
     "text": [
      "HelloWorld\n"
     ]
    }
   ],
   "source": [
    "import numpy as np\n",
    "import matplotlib.pyplot as plt\n",
    "print('HelloWorld')"
   ]
  },
  {
   "cell_type": "code",
   "execution_count": 104,
   "metadata": {},
   "outputs": [
    {
     "name": "stdout",
     "output_type": "stream",
     "text": [
      "[ 0.1  0.1  0.8]\n"
     ]
    }
   ],
   "source": [
    "#输入数据\n",
    "X = np.array([[1,1,1],\n",
    "             [4,3,1],\n",
    "             [3,3,1]])\n",
    "#标签\n",
    "Y = np.array([1,1,-1])\n",
    "#权值初始化，1行3列，取值范围-1到1\n",
    "#W = (np.random.random(3)-0.5)*2\n",
    "W = np.array([0.1, 0.1, 0.8])\n",
    "print(W)\n",
    "#学习率设置\n",
    "lr = 0.11\n",
    "#计算迭代次数\n",
    "n = 0\n",
    "#神经网络输出\n",
    "O = 0\n",
    "\n",
    "def update():\n",
    "    global X,Y,W,lr,n\n",
    "    n+=1\n",
    "    #O = np.sign(np.dot(X,W.T))\n",
    "    #delta = (Y-O.T).dot(X)\n",
    "    #print('delta=',delta)\n",
    "    #W_C = lr * (delta)\n",
    "    O = np.sign(np.dot(W,X))\n",
    "    W_C = lr * ((Y-O).dot(X))\n",
    "    \n",
    "    #数据量太多时，W_C的值会非常大，因此需要求平均，即使用W_C除以X数组的维度\n",
    "    W = W + W_C/int(X.shape[0])\n",
    "    \n",
    "    print('W_C=',W_C)\n",
    "    print('W=',W)"
   ]
  },
  {
   "cell_type": "code",
   "execution_count": 105,
   "metadata": {},
   "outputs": [
    {
     "name": "stdout",
     "output_type": "stream",
     "text": [
      "('Initial: W=', array([ 0.1,  0.1,  0.8]))\n",
      "('input_count=', 3)\n",
      "0\n",
      "('W_C=', array([-0.66, -0.66, -0.22]))\n",
      "('W=', array([-0.12      , -0.12      ,  0.72666667]))\n",
      "('sum=', array([ 1.58      ,  1.7       ,  0.48666667]))\n",
      "('O=', array([ 1.,  1.,  1.]))\n",
      "('k=', 0.16513761467889906)\n",
      "('d=', 0.16513761467889906)\n",
      "1\n",
      "('W_C=', array([-0.66, -0.66, -0.22]))\n",
      "('W=', array([-0.34      , -0.34      ,  0.65333333]))\n",
      "('sum=', array([ 0.26      ,  0.6       , -0.02666667]))\n",
      "('O=', array([ 1.,  1., -1.]))\n",
      "('k=', 0.52040816326530603)\n",
      "('d=', 0.52040816326530603)\n",
      "Finished\n",
      "('epoch:', 2)\n"
     ]
    },
    {
     "data": {
      "image/png": "[encoded data removed]",
      "text/plain": [
       "<matplotlib.figure.Figure at 0xc141358>"
      ]
     },
     "metadata": {},
     "output_type": "display_data"
    }
   ],
   "source": [
    "print('Initial: W=',W)\n",
    "        \n",
    "#正样本\n",
    "x1 = [3,4]\n",
    "y1 = [3,3]\n",
    "#负样本\n",
    "x2 = [1]\n",
    "y2 = [1]\n",
    "\n",
    "xdata = np.linspace(0,5)\n",
    "\n",
    "plt.figure()\n",
    "plt.plot(x1,y1,'bo')\n",
    "plt.plot(x2,y2,'yo')\n",
    "\n",
    "print('input_count=', int(X.shape[0]))\n",
    "\n",
    "kfinal=0\n",
    "dfinal=0\n",
    "for _ in range(100):\n",
    "    print(n) #打印迭代次数\n",
    "    update() #更新权值\n",
    "    #print(W) #打印当前权值\n",
    "    sum = np.dot(W,X)\n",
    "    O = np.sign(sum)#计算当前输出\n",
    "    print('sum=',sum)\n",
    "    print('O=',O)\n",
    "    #计算分界线的斜率以及截距\n",
    "    k = -W[1]/W[2]\n",
    "    d = -W[0]/W[2]\n",
    "    print('k=',k)\n",
    "    print('d=',d)\n",
    "    kfinal=k\n",
    "    dfinal=d\n",
    "    plt.plot(xdata,xdata*k+d,'r')\n",
    "    if (O == Y).all(): #如果实际输出等于期望输出，模型收敛，循环结束\n",
    "        print('Finished')\n",
    "        print('epoch:',n)\n",
    "        break\n",
    "\n",
    "\n",
    "\n",
    "\n",
    "\n",
    "plt.plot(xdata,xdata*kfinal+dfinal,'b')\n",
    "plt.show()\n"
   ]
  }
 ],
 "metadata": {
  "kernelspec": {
   "display_name": "Python 2",
   "language": "python",
   "name": "python2"
  },
  "language_info": {
   "codemirror_mode": {
    "name": "ipython",
    "version": 2
   },
   "file_extension": ".py",
   "mimetype": "text/x-python",
   "name": "python",
   "nbconvert_exporter": "python",
   "pygments_lexer": "ipython2",
   "version": "2.7.13"
  }
 },
 "nbformat": 4,
 "nbformat_minor": 2
}
