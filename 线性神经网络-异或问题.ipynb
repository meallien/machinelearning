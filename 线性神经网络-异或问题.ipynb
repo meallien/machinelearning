{
 "cells": [
  {
   "cell_type": "code",
   "execution_count": 7,
   "metadata": {
    "collapsed": true
   },
   "outputs": [],
   "source": [
    "import numpy as np\n",
    "import matplotlib.pyplot as plt\n",
    "\n",
    "#题目：\n",
    "#点(1,0)(0,1)(0,0)(1,1)分别输出(1,1,0,0)"
   ]
  },
  {
   "cell_type": "code",
   "execution_count": 8,
   "metadata": {},
   "outputs": [
    {
     "name": "stdout",
     "output_type": "stream",
     "text": [
      "[-0.50791577  0.76059027  0.06119271 -0.87637688  0.25044389  0.24138297]\n"
     ]
    }
   ],
   "source": [
    "#输入数据,1,x1,x2,x1*x1,x1*x2,x2*x2\n",
    "X = np.array([[1,1,0,1,0,0],\n",
    "             [1,0,1,0,0,1],\n",
    "             [1,0,0,0,0,0],\n",
    "             [1,1,1,1,1,1]])\n",
    "#标签\n",
    "Y = np.array([1,1,-1,-1])\n",
    "#权值初始化，1行3列，取值范围-1到1\n",
    "W = (np.random.random(6)-0.5)*2\n",
    "#W = np.array([0.1, 0.1, 0.8, 0.1, 0.1, 0.1])\n",
    "print(W)\n",
    "#学习率设置\n",
    "lr = 0.11\n",
    "#计算迭代次数\n",
    "n = 0\n",
    "#神经网络输出\n",
    "O = 0\n",
    "\n",
    "def update():\n",
    "    global X,Y,W,lr,n\n",
    "    n+=1\n",
    "    O = np.dot(X,W.T)\n",
    "    W_C = lr * ((Y-O.T).dot(X))\n",
    "    \n",
    "    #数据量太多时，W_C的值会非常大，因此需要求平均，即使用W_C除以X数组的维度\n",
    "    W = W + W_C/int(X.shape[0])\n"
   ]
  },
  {
   "cell_type": "code",
   "execution_count": 9,
   "metadata": {},
   "outputs": [
    {
     "data": {
      "image/png": "[encoded data removed]",
      "text/plain": [
       "<matplotlib.figure.Figure at 0xaf587b8>"
      ]
     },
     "metadata": {},
     "output_type": "display_data"
    },
    {
     "name": "stdout",
     "output_type": "stream",
     "text": [
      "[ 1.  1. -1. -1.]\n"
     ]
    }
   ],
   "source": [
    "for _ in range(100000):\n",
    "    update() #更新权值\n",
    "\n",
    "        \n",
    "#正样本\n",
    "x1 = [0,1]\n",
    "y1 = [1,0]\n",
    "#负样本\n",
    "x2 = [1,0]\n",
    "y2 = [1,0]\n",
    "\n",
    "def calculate(x,root):\n",
    "    a = W[5]\n",
    "    b = W[2] + x*W[4]\n",
    "    c = W[0]+x*W[1]+x*x*W[3]\n",
    "    if root==1:\n",
    "        return (-b+np.sqrt(b*b-4*a*c))/(2*a)\n",
    "    if root==2:\n",
    "        return (-b-np.sqrt(b*b-4*a*c))/(2*a)\n",
    "\n",
    "xdata = np.linspace(-1,2)\n",
    "\n",
    "plt.figure()\n",
    "plt.plot(x1,y1,'bo')\n",
    "plt.plot(x2,y2,'yo')\n",
    "\n",
    "plt.plot(xdata,calculate(xdata,1),'r')\n",
    "plt.plot(xdata,calculate(xdata,2),'r')\n",
    "\n",
    "plt.show()\n",
    "\n",
    "\n",
    "O = np.dot(X, W.T)\n",
    "print(O)"
   ]
  }
 ],
 "metadata": {
  "kernelspec": {
   "display_name": "Python 2",
   "language": "python",
   "name": "python2"
  },
  "language_info": {
   "codemirror_mode": {
    "name": "ipython",
    "version": 2
   },
   "file_extension": ".py",
   "mimetype": "text/x-python",
   "name": "python",
   "nbconvert_exporter": "python",
   "pygments_lexer": "ipython2",
   "version": "2.7.13"
  }
 },
 "nbformat": 4,
 "nbformat_minor": 2
}
